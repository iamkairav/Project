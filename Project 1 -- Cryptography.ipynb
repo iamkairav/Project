{
 "cells": [
  {
   "cell_type": "code",
   "execution_count": 2,
   "metadata": {
    "scrolled": true
   },
   "outputs": [
    {
     "name": "stdout",
     "output_type": "stream",
     "text": [
      "Requirement already satisfied: cryptography in c:\\users\\kamal\\anaconda3\\lib\\site-packages (3.1.1)\n",
      "Requirement already satisfied: six>=1.4.1 in c:\\users\\kamal\\anaconda3\\lib\\site-packages (from cryptography) (1.15.0)\n",
      "Requirement already satisfied: cffi!=1.11.3,>=1.8 in c:\\users\\kamal\\anaconda3\\lib\\site-packages (from cryptography) (1.14.3)\n",
      "Requirement already satisfied: pycparser in c:\\users\\kamal\\anaconda3\\lib\\site-packages (from cffi!=1.11.3,>=1.8->cryptography) (2.20)\n"
     ]
    }
   ],
   "source": [
    "!pip install cryptography"
   ]
  },
  {
   "cell_type": "code",
   "execution_count": 3,
   "metadata": {},
   "outputs": [],
   "source": [
    "from cryptography.fernet import Fernet"
   ]
  },
  {
   "cell_type": "code",
   "execution_count": 112,
   "metadata": {},
   "outputs": [],
   "source": [
    "def generatingkey():\n",
    "    key = Fernet.generate_key()\n",
    "    print(type(key))\n",
    "    ps=open('pswd.key','wb')\n",
    "    ps.write(key)\n",
    "    ps.close()\n",
    "def getpsw():\n",
    "    ps=open('pswd.key','rb')\n",
    "    return ps.read()\n",
    "    ps.close()\n",
    "def encryption(msg):\n",
    "    key = getpsw()\n",
    "    k = Fernet(key)\n",
    "    encrypted = k.encrypt(msg)\n",
    "    return encrypted\n",
    "def decryption(demsg):\n",
    "    key = getpsw()\n",
    "    k = Fernet(key)\n",
    "    decrypted = k.decrypt(demsg)\n",
    "    return decrypted"
   ]
  },
  {
   "cell_type": "code",
   "execution_count": 118,
   "metadata": {},
   "outputs": [
    {
     "name": "stdout",
     "output_type": "stream",
     "text": [
      "<class 'bytes'>\n"
     ]
    },
    {
     "data": {
      "text/plain": [
       "b'gAAAAABf2zX4V7GOWe8xPuqj2XYbf49V8zrViLn8oQie--lUHLDGrXeskuBtvDAL79b81pC48ulmAzAEZRYGxedXF9B4N5Lm9Q=='"
      ]
     },
     "execution_count": 118,
     "metadata": {},
     "output_type": "execute_result"
    }
   ],
   "source": [
    "generatingkey()\n",
    "getpsw()\n",
    "encryption(b'atm pin is 2569')"
   ]
  },
  {
   "cell_type": "code",
   "execution_count": 121,
   "metadata": {},
   "outputs": [
    {
     "data": {
      "text/plain": [
       "b'atm pin is 2569'"
      ]
     },
     "execution_count": 121,
     "metadata": {},
     "output_type": "execute_result"
    }
   ],
   "source": [
    "decryption(b'gAAAAABf2zX4V7GOWe8xPuqj2XYbf49V8zrViLn8oQie--lUHLDGrXeskuBtvDAL79b81pC48ulmAzAEZRYGxedXF9B4N5Lm9Q==')"
   ]
  }
 ],
 "metadata": {
  "kernelspec": {
   "display_name": "Python 3",
   "language": "python",
   "name": "python3"
  },
  "language_info": {
   "codemirror_mode": {
    "name": "ipython",
    "version": 3
   },
   "file_extension": ".py",
   "mimetype": "text/x-python",
   "name": "python",
   "nbconvert_exporter": "python",
   "pygments_lexer": "ipython3",
   "version": "3.8.5"
  }
 },
 "nbformat": 4,
 "nbformat_minor": 4
}
