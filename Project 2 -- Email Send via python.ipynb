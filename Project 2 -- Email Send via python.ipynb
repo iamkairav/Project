{
 "cells": [
  {
   "cell_type": "code",
   "execution_count": 28,
   "metadata": {},
   "outputs": [
    {
     "name": "stdout",
     "output_type": "stream",
     "text": [
      "Requirement already satisfied: emails in c:\\users\\kamal\\anaconda3\\lib\\site-packages (0.6)\n",
      "Requirement already satisfied: premailer in c:\\users\\kamal\\anaconda3\\lib\\site-packages (from emails) (3.7.0)\n",
      "Requirement already satisfied: chardet in c:\\users\\kamal\\anaconda3\\lib\\site-packages (from emails) (3.0.4)\n",
      "Requirement already satisfied: cssutils in c:\\users\\kamal\\anaconda3\\lib\\site-packages (from emails) (1.0.2)\n",
      "Requirement already satisfied: lxml in c:\\users\\kamal\\anaconda3\\lib\\site-packages (from emails) (4.6.1)\n",
      "Requirement already satisfied: requests in c:\\users\\kamal\\anaconda3\\lib\\site-packages (from emails) (2.24.0)\n",
      "Requirement already satisfied: python-dateutil in c:\\users\\kamal\\anaconda3\\lib\\site-packages (from emails) (2.8.1)\n",
      "Requirement already satisfied: cachetools in c:\\users\\kamal\\anaconda3\\lib\\site-packages (from premailer->emails) (4.2.0)\n",
      "Requirement already satisfied: cssselect in c:\\users\\kamal\\anaconda3\\lib\\site-packages (from premailer->emails) (1.1.0)\n",
      "Requirement already satisfied: urllib3!=1.25.0,!=1.25.1,<1.26,>=1.21.1 in c:\\users\\kamal\\anaconda3\\lib\\site-packages (from requests->emails) (1.25.11)\n",
      "Requirement already satisfied: certifi>=2017.4.17 in c:\\users\\kamal\\anaconda3\\lib\\site-packages (from requests->emails) (2020.6.20)\n",
      "Requirement already satisfied: idna<3,>=2.5 in c:\\users\\kamal\\anaconda3\\lib\\site-packages (from requests->emails) (2.10)\n",
      "Requirement already satisfied: six>=1.5 in c:\\users\\kamal\\anaconda3\\lib\\site-packages (from python-dateutil->emails) (1.15.0)\n"
     ]
    }
   ],
   "source": [
    "!pip install emails"
   ]
  },
  {
   "cell_type": "code",
   "execution_count": 29,
   "metadata": {},
   "outputs": [],
   "source": [
    "import emails"
   ]
  },
  {
   "cell_type": "code",
   "execution_count": 58,
   "metadata": {},
   "outputs": [],
   "source": []
  },
  {
   "cell_type": "code",
   "execution_count": 65,
   "metadata": {},
   "outputs": [],
   "source": [
    "def pythonmsg(email):\n",
    "    msghtmltext = '''<p><strong><span style=\"color: rgb(97, 189, 109); font-family: Verdana, Geneva, sans-serif;\">Hey&nbsp;</span><span style=\"font-family: Verdana, Geneva, sans-serif;\"><span style=\"color: rgb(226, 80, 65);\">,This is&nbsp;</span><span style=\"color: rgb(44, 130, 201);\">Kamal Singh</span><span style=\"color: rgb(226, 80, 65);\">&nbsp;and this is my first python generated email</span></span><span style=\"color: rgb(250, 197, 28);\"><em><span style=\"font-family: Verdana, Geneva, sans-serif;\">*</span></em></span></strong></p>\n",
    "<p><strong><span style=\"color: rgb(250, 197, 28);\"><em>😆😆😆😆😁😁<span style=\"background-image: url('https://bestwallpapers.net/wp-content/uploads/2020/03/4K-Wallpaper-Free-Download-4K-Wallpapers-For-Mobile.jpeg');\"></span></em></span></strong></p>'''\n",
    "    message = emails.html(html=msghtmltext,\n",
    "                          subject=\"hii Kamal\",\n",
    "                          mail_from=('Kamal Singh','hey.iamksb@gmail.com'))\n",
    "    sendmsg = message.send(to=email, \n",
    "                       smtp={'host': 'smtp.gmail.com', \n",
    "                             'timeout': 5,\n",
    "                             'port':587,\n",
    "                             'user':'xyz@gmail.com',\n",
    "                             'password':'your password',\n",
    "                             'tls':True})"
   ]
  },
  {
   "cell_type": "code",
   "execution_count": 66,
   "metadata": {},
   "outputs": [],
   "source": [
    "pythonmsg('lakshmansingh3204@gmail.com')"
   ]
  }
 ],
 "metadata": {
  "kernelspec": {
   "display_name": "Python 3",
   "language": "python",
   "name": "python3"
  },
  "language_info": {
   "codemirror_mode": {
    "name": "ipython",
    "version": 3
   },
   "file_extension": ".py",
   "mimetype": "text/x-python",
   "name": "python",
   "nbconvert_exporter": "python",
   "pygments_lexer": "ipython3",
   "version": "3.8.5"
  }
 },
 "nbformat": 4,
 "nbformat_minor": 4
}
